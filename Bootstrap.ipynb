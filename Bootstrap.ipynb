{
 "cells": [
  {
   "cell_type": "markdown",
   "metadata": {},
   "source": [
    "## Bootstrapping"
   ]
  },
  {
   "cell_type": "markdown",
   "metadata": {},
   "source": [
    "We are going to use the same dataset we used in cross-validation to calculate a standard deviation of the parameters of the fit."
   ]
  },
  {
   "cell_type": "code",
   "execution_count": 1,
   "metadata": {
    "collapsed": true
   },
   "outputs": [],
   "source": [
    "import pandas as pd\n",
    "import numpy as np\n",
    "import random\n",
    "import seaborn\n",
    "from sklearn.preprocessing import PolynomialFeatures\n",
    "from sklearn import linear_model\n",
    "import matplotlib.pyplot as plt\n",
    "%matplotlib inline"
   ]
  },
  {
   "cell_type": "code",
   "execution_count": 2,
   "metadata": {
    "collapsed": false
   },
   "outputs": [
    {
     "data": {
      "text/html": [
       "<div>\n",
       "<table border=\"1\" class=\"dataframe\">\n",
       "  <thead>\n",
       "    <tr style=\"text-align: right;\">\n",
       "      <th></th>\n",
       "      <th>Unnamed: 0</th>\n",
       "      <th>mpg</th>\n",
       "      <th>cylinders</th>\n",
       "      <th>displacement</th>\n",
       "      <th>horsepower</th>\n",
       "      <th>weight</th>\n",
       "      <th>acceleration</th>\n",
       "      <th>year</th>\n",
       "      <th>origin</th>\n",
       "      <th>name</th>\n",
       "    </tr>\n",
       "  </thead>\n",
       "  <tbody>\n",
       "    <tr>\n",
       "      <th>0</th>\n",
       "      <td>1</td>\n",
       "      <td>18</td>\n",
       "      <td>8</td>\n",
       "      <td>307</td>\n",
       "      <td>130</td>\n",
       "      <td>3504</td>\n",
       "      <td>12.0</td>\n",
       "      <td>70</td>\n",
       "      <td>1</td>\n",
       "      <td>chevrolet chevelle malibu</td>\n",
       "    </tr>\n",
       "    <tr>\n",
       "      <th>1</th>\n",
       "      <td>2</td>\n",
       "      <td>15</td>\n",
       "      <td>8</td>\n",
       "      <td>350</td>\n",
       "      <td>165</td>\n",
       "      <td>3693</td>\n",
       "      <td>11.5</td>\n",
       "      <td>70</td>\n",
       "      <td>1</td>\n",
       "      <td>buick skylark 320</td>\n",
       "    </tr>\n",
       "    <tr>\n",
       "      <th>2</th>\n",
       "      <td>3</td>\n",
       "      <td>18</td>\n",
       "      <td>8</td>\n",
       "      <td>318</td>\n",
       "      <td>150</td>\n",
       "      <td>3436</td>\n",
       "      <td>11.0</td>\n",
       "      <td>70</td>\n",
       "      <td>1</td>\n",
       "      <td>plymouth satellite</td>\n",
       "    </tr>\n",
       "    <tr>\n",
       "      <th>3</th>\n",
       "      <td>4</td>\n",
       "      <td>16</td>\n",
       "      <td>8</td>\n",
       "      <td>304</td>\n",
       "      <td>150</td>\n",
       "      <td>3433</td>\n",
       "      <td>12.0</td>\n",
       "      <td>70</td>\n",
       "      <td>1</td>\n",
       "      <td>amc rebel sst</td>\n",
       "    </tr>\n",
       "    <tr>\n",
       "      <th>4</th>\n",
       "      <td>5</td>\n",
       "      <td>17</td>\n",
       "      <td>8</td>\n",
       "      <td>302</td>\n",
       "      <td>140</td>\n",
       "      <td>3449</td>\n",
       "      <td>10.5</td>\n",
       "      <td>70</td>\n",
       "      <td>1</td>\n",
       "      <td>ford torino</td>\n",
       "    </tr>\n",
       "  </tbody>\n",
       "</table>\n",
       "</div>"
      ],
      "text/plain": [
       "   Unnamed: 0  mpg  cylinders  displacement  horsepower  weight  acceleration  \\\n",
       "0           1   18          8           307         130    3504          12.0   \n",
       "1           2   15          8           350         165    3693          11.5   \n",
       "2           3   18          8           318         150    3436          11.0   \n",
       "3           4   16          8           304         150    3433          12.0   \n",
       "4           5   17          8           302         140    3449          10.5   \n",
       "\n",
       "   year  origin                       name  \n",
       "0    70       1  chevrolet chevelle malibu  \n",
       "1    70       1          buick skylark 320  \n",
       "2    70       1         plymouth satellite  \n",
       "3    70       1              amc rebel sst  \n",
       "4    70       1                ford torino  "
      ]
     },
     "execution_count": 2,
     "metadata": {},
     "output_type": "execute_result"
    }
   ],
   "source": [
    "auto = pd.read_csv('data/auto.csv')\n",
    "auto.head()"
   ]
  },
  {
   "cell_type": "code",
   "execution_count": 14,
   "metadata": {
    "collapsed": true
   },
   "outputs": [],
   "source": [
    "X = auto[['horsepower']].values\n",
    "y = auto.mpg.values"
   ]
  },
  {
   "cell_type": "code",
   "execution_count": 44,
   "metadata": {
    "collapsed": false
   },
   "outputs": [],
   "source": [
    "poly = PolynomialFeatures(degree=2)\n",
    "n_iter = 10000\n",
    "coefArray = np.zeros(shape=(n_iter,3))\n",
    "for i in range(n_iter):\n",
    "    i_train = np.random.randint(len(y),size=len(y)) #this is bootstraping, sampling from the original data set with \n",
    "                                                    # replacement\n",
    "    X_train, y_train = X[i_train], y[i_train]\n",
    "    X_trans = poly.fit_transform(X_train)\n",
    "    lf = linear_model.LinearRegression()\n",
    "    lf.fit(X_trans,y_train)\n",
    "    \n",
    "    #Calculate coefficients\n",
    "    coef = lf.coef_\n",
    "    coef[0] = lf.intercept_\n",
    "    coefArray[i] = coef"
   ]
  },
  {
   "cell_type": "code",
   "execution_count": 47,
   "metadata": {
    "collapsed": false
   },
   "outputs": [
    {
     "name": "stdout",
     "output_type": "stream",
     "text": [
      "[  5.69174028e+01  -4.66696163e-01   1.23316878e-03]\n",
      "[  2.08307153e+00   3.32366476e-02   1.20173038e-04]\n",
      "[  6.09506176e+01  -4.02615613e-01   1.46994814e-03]\n",
      "[  5.28972396e+01  -5.31566451e-01   1.00081726e-03]\n"
     ]
    }
   ],
   "source": [
    "print np.mean(coefArray,axis = 0)\n",
    "print np.std(coefArray,axis=0)\n",
    "# confidence intervals \n",
    "print np.percentile(coefArray,97.5, axis=0)\n",
    "print np.percentile(coefArray,2.5, axis=0)"
   ]
  },
  {
   "cell_type": "code",
   "execution_count": 49,
   "metadata": {
    "collapsed": false
   },
   "outputs": [
    {
     "data": {
      "text/plain": [
       "(array([  2.00000000e+00,   0.00000000e+00,   1.00000000e+00,\n",
       "          1.00000000e+00,   1.00000000e+01,   2.20000000e+01,\n",
       "          4.20000000e+01,   8.00000000e+01,   1.54000000e+02,\n",
       "          2.62000000e+02,   4.11000000e+02,   5.74000000e+02,\n",
       "          7.44000000e+02,   9.42000000e+02,   1.05300000e+03,\n",
       "          1.08600000e+03,   1.12100000e+03,   8.90000000e+02,\n",
       "          8.07000000e+02,   6.35000000e+02,   4.40000000e+02,\n",
       "          3.24000000e+02,   2.00000000e+02,   9.40000000e+01,\n",
       "          5.50000000e+01,   2.80000000e+01,   1.20000000e+01,\n",
       "          6.00000000e+00,   1.00000000e+00,   3.00000000e+00]),\n",
       " array([-0.61085838, -0.60165635, -0.59245432, -0.58325228, -0.57405025,\n",
       "        -0.56484822, -0.55564618, -0.54644415, -0.53724211, -0.52804008,\n",
       "        -0.51883805, -0.50963601, -0.50043398, -0.49123194, -0.48202991,\n",
       "        -0.47282788, -0.46362584, -0.45442381, -0.44522177, -0.43601974,\n",
       "        -0.42681771, -0.41761567, -0.40841364, -0.3992116 , -0.39000957,\n",
       "        -0.38080754, -0.3716055 , -0.36240347, -0.35320143, -0.3439994 ,\n",
       "        -0.33479737]),\n",
       " <a list of 30 Patch objects>)"
      ]
     },
     "execution_count": 49,
     "metadata": {},
     "output_type": "execute_result"
    },
    {
     "data": {
      "image/png": "[encoded data removed]",
      "text/plain": [
       "<matplotlib.figure.Figure at 0x108e00d90>"
      ]
     },
     "metadata": {},
     "output_type": "display_data"
    }
   ],
   "source": [
    "plt.hist(coefArray[:,1],30) "
   ]
  },
  {
   "cell_type": "code",
   "execution_count": 51,
   "metadata": {
    "collapsed": false
   },
   "outputs": [
    {
     "data": {
      "text/plain": [
       "1"
      ]
     },
     "execution_count": 51,
     "metadata": {},
     "output_type": "execute_result"
    }
   ],
   "source": []
  },
  {
   "cell_type": "code",
   "execution_count": null,
   "metadata": {
    "collapsed": true
   },
   "outputs": [],
   "source": []
  }
 ],
 "metadata": {
  "kernelspec": {
   "display_name": "Python 2",
   "language": "python",
   "name": "python2"
  },
  "language_info": {
   "codemirror_mode": {
    "name": "ipython",
    "version": 2
   },
   "file_extension": ".py",
   "mimetype": "text/x-python",
   "name": "python",
   "nbconvert_exporter": "python",
   "pygments_lexer": "ipython2",
   "version": "2.7.10"
  }
 },
 "nbformat": 4,
 "nbformat_minor": 0
}
